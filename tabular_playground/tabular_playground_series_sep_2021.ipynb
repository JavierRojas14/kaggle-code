{
 "cells": [
  {
   "cell_type": "code",
   "execution_count": 1,
   "metadata": {},
   "outputs": [
    {
     "name": "stdout",
     "output_type": "stream",
     "text": [
      "kaggle/input/.DS_Store\n",
      "kaggle/input/tabular-playground-series-sep-2021/test.csv\n",
      "kaggle/input/tabular-playground-series-sep-2021/sample_solution.csv\n",
      "kaggle/input/tabular-playground-series-sep-2021/train.csv\n"
     ]
    }
   ],
   "source": [
    "# This Python 3 environment comes with many helpful analytics libraries installed\n",
    "# It is defined by the kaggle/python Docker image: https://github.com/kaggle/docker-python\n",
    "# For example, here's several helpful packages to load\n",
    "\n",
    "import numpy as np # linear algebra\n",
    "import pandas as pd # data processing, CSV file I/O (e.g. pd.read_csv)\n",
    "\n",
    "# Input data files are available in the read-only \"../input/\" directory\n",
    "# For example, running this (by clicking run or pressing Shift+Enter) will list all files under \n",
    "# the input directory\n",
    "\n",
    "import os\n",
    "for dirname, _, filenames in os.walk('kaggle/input'):\n",
    "    for filename in filenames:\n",
    "        print(os.path.join(dirname, filename))\n",
    "\n",
    "# You can write up to 20GB to the current directory (/kaggle/working/) that gets preserved as \n",
    "# output when you create a version using \"Save & Run All\" \n",
    "# You can also write temporary files to /kaggle/temp/, but they won't be \n",
    "# saved outside of the current session"
   ]
  },
  {
   "cell_type": "code",
   "execution_count": 14,
   "metadata": {},
   "outputs": [],
   "source": [
    "# Define funciones de preprocesamiento\n",
    "from sklearn.model_selection import train_test_split, GridSearchCV\n",
    "from sklearn.preprocessing import StandardScaler\n",
    "from sklearn.impute import SimpleImputer\n",
    "\n",
    "# Define modelos de aprendizaje automatico a ocupar\n",
    "from sklearn.linear_model import LogisticRegression\n",
    "from sklearn.cluster import KMeans\n",
    "from sklearn.tree import DecisionTreeClassifier\n",
    "from sklearn.ensemble import RandomForestClassifier, GradientBoostingClassifier\n",
    "from sklearn.svm import SVC\n",
    "\n",
    "# Definir importe de una red neuronal\n",
    "# importar red neuronal en PyTorch\n",
    "\n",
    "# Define metricas de clasificacion\n",
    "from sklearn.metrics import accuracy_score, classification_report"
   ]
  },
  {
   "cell_type": "markdown",
   "metadata": {},
   "source": [
    "## Preprocesamiento de datos para ocuparlos en Machine Learning"
   ]
  },
  {
   "cell_type": "code",
   "execution_count": 3,
   "metadata": {},
   "outputs": [],
   "source": [
    "# Lee archivos train, test y sample solution\n",
    "df_train = pd.read_csv(\"kaggle/input/tabular-playground-series-sep-2021/train.csv\")\n",
    "df_test = pd.read_csv(\"kaggle/input/tabular-playground-series-sep-2021/test.csv\")\n",
    "sample_solution = pd.read_csv(\"kaggle/input/tabular-playground-series-sep-2021/sample_solution.csv\")"
   ]
  },
  {
   "cell_type": "code",
   "execution_count": 4,
   "metadata": {},
   "outputs": [],
   "source": [
    "# Separa en variables independientes y dependientes\n",
    "X = df_train.drop(columns=[\"id\", \"claim\"])\n",
    "y = df_train[\"claim\"]"
   ]
  },
  {
   "cell_type": "code",
   "execution_count": 5,
   "metadata": {},
   "outputs": [],
   "source": [
    "GENERADOR = 42\n",
    "# Separa en train y valid para entrenar los modelos\n",
    "X_train, X_valid, y_train, y_valid = train_test_split(X, y, test_size=0.2, random_state=GENERADOR)\n",
    "\n",
    "# Escala los datos de X_train\n",
    "scaler = StandardScaler()\n",
    "X_train = scaler.fit_transform(X_train)\n",
    "X_valid = scaler.transform(X_valid)\n",
    "\n",
    "# Imputa valores faltantes\n",
    "imputador = SimpleImputer()\n",
    "X_train = imputador.fit_transform(X_train)\n",
    "X_valid = imputador.transform(X_valid)"
   ]
  },
  {
   "cell_type": "markdown",
   "metadata": {},
   "source": [
    "## Definicion de modelos de Machine Learning - Clasificacion"
   ]
  },
  {
   "cell_type": "code",
   "execution_count": 15,
   "metadata": {},
   "outputs": [],
   "source": [
    "# Define los modelos a entrenar en tanda\n",
    "modelos = [\n",
    "    {\n",
    "        \"nombre\": \"Regresion Logistica\",\n",
    "        \"modelo\": LogisticRegression(),\n",
    "        \"param_grid\": {\n",
    "            \"penalty\": [\"l1\", \"l2\"],\n",
    "            \"C\": [0.01, 0.1, 1.0, 10.0],\n",
    "            \"fit_intercept\": [True, False],\n",
    "            \"solver\": [\"liblinear\", \"saga\"],\n",
    "            \"max_iter\": [100, 200, 300],\n",
    "        },\n",
    "    },\n",
    "    {\n",
    "        \"nombre\": \"K-Means\",\n",
    "        \"modelo\": KMeans(n_clusters=2),\n",
    "        \"param_grid\": {\n",
    "            \"init\": [\"k-means++\", \"random\"],\n",
    "            \"max_iter\": [100, 300, 500],\n",
    "        },\n",
    "    },\n",
    "    {\n",
    "        \"nombre\": \"Decision Tree\",\n",
    "        \"modelo\": DecisionTreeClassifier(),\n",
    "        \"param_grid\": {\n",
    "            \"max_depth\": [3, 4, 5, 6, 7, 8, 9, 10],\n",
    "            \"max_leaf_nodes\": [10, 50, 100],\n",
    "            \"criterion\": [\"gini\", \"entropy\"],\n",
    "            \"min_samples_split\": [0.05, 2],\n",
    "        },\n",
    "    },\n",
    "    {\n",
    "        \"nombre\": \"Random Forest\",\n",
    "        \"modelo\": RandomForestClassifier(min_samples_split=2),\n",
    "        \"param_grid\": {\n",
    "            \"max_depth\": [5, 6, 7, 8, 9, 10],\n",
    "            \"n_estimators\": [500, 600, 700, 800, 900, 1000],\n",
    "            \"max_leaf_nodes\": [10, 50, 100],\n",
    "        },\n",
    "    },\n",
    "    {\n",
    "        \"nombre\": \"Gradient Boosting\",\n",
    "        \"modelo\": GradientBoostingClassifier(min_samples_split=2),\n",
    "        \"param_grid\": {\n",
    "            \"max_depth\": [5, 6, 7, 8, 9, 10],\n",
    "            \"learning_rate\": [0.001, 0.01, 0.1, 1],\n",
    "            \"max_leaf_nodes\": [10, 50, 100],\n",
    "        },\n",
    "    },\n",
    "    {\n",
    "        \"nombre\": \"SVM\",\n",
    "        \"modelo\": SVC(),\n",
    "        \"param_grid\": {\"C\": [0.1, 1, 10, 100], \"kernel\": [\"linear\", \"poly\"], \"degree\": [2, 3, 4]},\n",
    "    },\n",
    "]"
   ]
  },
  {
   "cell_type": "code",
   "execution_count": null,
   "metadata": {},
   "outputs": [],
   "source": []
  }
 ],
 "metadata": {
  "kernelspec": {
   "display_name": "kaggle",
   "language": "python",
   "name": "python3"
  },
  "language_info": {
   "codemirror_mode": {
    "name": "ipython",
    "version": 3
   },
   "file_extension": ".py",
   "mimetype": "text/x-python",
   "name": "python",
   "nbconvert_exporter": "python",
   "pygments_lexer": "ipython3",
   "version": "3.12.5"
  }
 },
 "nbformat": 4,
 "nbformat_minor": 2
}
